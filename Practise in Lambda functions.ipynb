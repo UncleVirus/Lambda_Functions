{
 "cells": [
  {
   "cell_type": "code",
   "execution_count": 5,
   "id": "3ddf7414",
   "metadata": {},
   "outputs": [],
   "source": [
    "h = lambda x:x[0]"
   ]
  },
  {
   "cell_type": "code",
   "execution_count": 6,
   "id": "9a05495e",
   "metadata": {},
   "outputs": [],
   "source": [
    "j = lambda x: 'small' if x < 10 else 'big'"
   ]
  },
  {
   "cell_type": "code",
   "execution_count": 7,
   "id": "1fdd43e8",
   "metadata": {},
   "outputs": [],
   "source": [
    "k = lambda x: 'small' if x < 10 else('large' if x > 100 else 'medium')"
   ]
  },
  {
   "cell_type": "code",
   "execution_count": 8,
   "id": "d758d6e8",
   "metadata": {},
   "outputs": [],
   "source": [
    "m = lambda x: [x[1],x[2],x[0]]"
   ]
  },
  {
   "cell_type": "code",
   "execution_count": 15,
   "id": "8bbd16c7",
   "metadata": {},
   "outputs": [
    {
     "name": "stdout",
     "output_type": "stream",
     "text": [
      "[5, 7, 3]\n"
     ]
    }
   ],
   "source": [
    "print(m([3,5,7]))"
   ]
  },
  {
   "cell_type": "code",
   "execution_count": null,
   "id": "3ff38935",
   "metadata": {},
   "outputs": [],
   "source": []
  }
 ],
 "metadata": {
  "kernelspec": {
   "display_name": "Python 3 (ipykernel)",
   "language": "python",
   "name": "python3"
  },
  "language_info": {
   "codemirror_mode": {
    "name": "ipython",
    "version": 3
   },
   "file_extension": ".py",
   "mimetype": "text/x-python",
   "name": "python",
   "nbconvert_exporter": "python",
   "pygments_lexer": "ipython3",
   "version": "3.9.13"
  }
 },
 "nbformat": 4,
 "nbformat_minor": 5
}
