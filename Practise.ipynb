{
 "cells": [
  {
   "cell_type": "code",
   "execution_count": 10,
   "id": "2f1fba79",
   "metadata": {},
   "outputs": [],
   "source": [
    "def pick(index,myList):\n",
    "    return myList[index]"
   ]
  },
  {
   "cell_type": "code",
   "execution_count": 11,
   "id": "d9a1b78d",
   "metadata": {},
   "outputs": [],
   "source": [
    "def pickLatter(index,myList):\n",
    "    return(myList[index:])"
   ]
  },
  {
   "cell_type": "code",
   "execution_count": 12,
   "id": "23fba2c6",
   "metadata": {},
   "outputs": [],
   "source": [
    "def pickEarly(index,myList):\n",
    "    return(myList[:index+1])"
   ]
  },
  {
   "cell_type": "code",
   "execution_count": 13,
   "id": "92ccc1e8",
   "metadata": {},
   "outputs": [],
   "source": [
    "def product(myList):\n",
    "    answer = 1\n",
    "    for element in myList:\n",
    "        answer = answer * element\n",
    "    return answer"
   ]
  },
  {
   "cell_type": "code",
   "execution_count": 14,
   "id": "c118f6e7",
   "metadata": {},
   "outputs": [],
   "source": [
    "def pt(num):\n",
    "    num = int(num)\n",
    "    print(num)\n",
    "    if num > 1:\n",
    "        pt(num - 1)"
   ]
  },
  {
   "cell_type": "code",
   "execution_count": 15,
   "id": "06f7b1df",
   "metadata": {},
   "outputs": [],
   "source": [
    "def fac(num):\n",
    "    num = int(num)\n",
    "    if num > 1:\n",
    "        return num * fac(num - 1)\n",
    "    else:\n",
    "        return 1"
   ]
  },
  {
   "cell_type": "code",
   "execution_count": 21,
   "id": "9fe9072f",
   "metadata": {},
   "outputs": [
    {
     "name": "stdout",
     "output_type": "stream",
     "text": [
      "6\n"
     ]
    }
   ],
   "source": [
    "print(fac(3))"
   ]
  },
  {
   "cell_type": "code",
   "execution_count": null,
   "id": "27ba9266",
   "metadata": {},
   "outputs": [],
   "source": []
  }
 ],
 "metadata": {
  "kernelspec": {
   "display_name": "Python 3 (ipykernel)",
   "language": "python",
   "name": "python3"
  },
  "language_info": {
   "codemirror_mode": {
    "name": "ipython",
    "version": 3
   },
   "file_extension": ".py",
   "mimetype": "text/x-python",
   "name": "python",
   "nbconvert_exporter": "python",
   "pygments_lexer": "ipython3",
   "version": "3.9.13"
  }
 },
 "nbformat": 4,
 "nbformat_minor": 5
}
