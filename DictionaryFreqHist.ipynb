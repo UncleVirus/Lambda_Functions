{
 "cells": [
  {
   "cell_type": "code",
   "execution_count": null,
   "metadata": {
    "collapsed": true
   },
   "outputs": [],
   "source": [
    "\"\"\"Open text file and append words from each line to a list\"\"\"\n",
    "f_in = open('wordsWM.csv','r')  # this files must be located in the same folder\n",
    "                                # as the Jupyter notebook\n",
    "data = f_in.readlines()\n",
    "words = []\n",
    "for line in data:\n",
    "    words += line.split(',')\n",
    "f_in.close()\n",
    "\n",
    "\"\"\"Create a dictionary, create keys using the words in the passage, and count\n",
    "   the number of occurrences of each word, using that quantity as a value \"\"\"\n",
    "wordDict = {}\n",
    "bins = list(set(words))\n",
    "for b in bins:\n",
    "    wordDict[b] = 0\n",
    "for word in words:\n",
    "    #if word not in stopWords:\n",
    "    wordDict[word] += 1\n",
    "print(wordDict)\n",
    "\n",
    "\"\"\" Create spearate lists for the x variables (keys) and y variables (values)\"\"\"\n",
    "xVar = []\n",
    "yVar = []\n",
    "for k,v in wordDict.items():\n",
    "    xVar.append(k)\n",
    "    yVar.append(v)\n",
    "print(xVar)\n",
    "print(yVar)\n",
    "\n",
    "\"\"\"Write the dictionary data into a text file\"\"\"\n",
    "f_out = open('wordsWMDict.csv','w')\n",
    "for k,v in wordDict.items():\n",
    "    f_out.write(str(k) + ',' + str(v) + '\\n')\n",
    "f_out.close()"
   ]
  }
 ],
 "metadata": {
  "kernelspec": {
   "display_name": "Python 3",
   "language": "python",
   "name": "python3"
  },
  "language_info": {
   "codemirror_mode": {
    "name": "ipython",
    "version": 3
   },
   "file_extension": ".py",
   "mimetype": "text/x-python",
   "name": "python",
   "nbconvert_exporter": "python",
   "pygments_lexer": "ipython3",
   "version": "3.6.3"
  }
 },
 "nbformat": 4,
 "nbformat_minor": 2
}
